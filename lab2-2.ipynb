{
 "cells": [
  {
   "metadata": {
    "ExecuteTime": {
     "end_time": "2025-07-07T20:18:59.184124Z",
     "start_time": "2025-07-07T20:18:59.092058Z"
    }
   },
   "cell_type": "code",
   "source": "import numpy as np",
   "id": "8761b75873e3853f",
   "outputs": [],
   "execution_count": 6
  },
  {
   "cell_type": "code",
   "id": "initial_id",
   "metadata": {
    "collapsed": true,
    "ExecuteTime": {
     "end_time": "2025-07-07T20:11:14.884371Z",
     "start_time": "2025-07-07T20:11:14.880720Z"
    }
   },
   "source": "sample_list = [11, 45, 8, 23, 14, 12, 78, 45, 89]",
   "outputs": [],
   "execution_count": 1
  },
  {
   "metadata": {
    "ExecuteTime": {
     "end_time": "2025-07-07T20:19:58.017634Z",
     "start_time": "2025-07-07T20:19:58.014329Z"
    }
   },
   "cell_type": "code",
   "source": [
    "result = np.array_split(sample_list, 3)\n",
    "result"
   ],
   "id": "52ea40296cca32ff",
   "outputs": [
    {
     "data": {
      "text/plain": [
       "[array([11, 45,  8]), array([23, 14, 12]), array([78, 45, 89])]"
      ]
     },
     "execution_count": 12,
     "metadata": {},
     "output_type": "execute_result"
    }
   ],
   "execution_count": 12
  },
  {
   "metadata": {
    "ExecuteTime": {
     "end_time": "2025-07-07T20:32:58.910704Z",
     "start_time": "2025-07-07T20:32:58.907380Z"
    }
   },
   "cell_type": "code",
   "source": [
    "for index,chunk in enumerate(result):\n",
    "    print(f'Chunk {index+1}: {chunk}')\n",
    "    print(f'Reversed: {chunk[::-1]}')"
   ],
   "id": "37e1427cf895fba2",
   "outputs": [
    {
     "name": "stdout",
     "output_type": "stream",
     "text": [
      "Chunk 1: [11 45  8]\n",
      "Reversed: [ 8 45 11]\n",
      "Chunk 2: [23 14 12]\n",
      "Reversed: [12 14 23]\n",
      "Chunk 3: [78 45 89]\n",
      "Reversed: [89 45 78]\n"
     ]
    }
   ],
   "execution_count": 21
  },
  {
   "metadata": {
    "ExecuteTime": {
     "end_time": "2025-07-07T20:36:35.317189Z",
     "start_time": "2025-07-07T20:36:35.311402Z"
    }
   },
   "cell_type": "code",
   "source": [
    "house_prices = ['$140,000', '$550,000', '$480,000']\n",
    "house_prices"
   ],
   "id": "ac4b15f57c803ff5",
   "outputs": [
    {
     "data": {
      "text/plain": [
       "['$140,000', '$550,000', '$480,000']"
      ]
     },
     "execution_count": 22,
     "metadata": {},
     "output_type": "execute_result"
    }
   ],
   "execution_count": 22
  },
  {
   "metadata": {
    "ExecuteTime": {
     "end_time": "2025-07-07T20:36:48.225500Z",
     "start_time": "2025-07-07T20:36:48.222635Z"
    }
   },
   "cell_type": "code",
   "source": [
    "house_prices[1] = '$175,000'\n",
    "house_prices"
   ],
   "id": "373feb6214e39c18",
   "outputs": [
    {
     "data": {
      "text/plain": [
       "['$140,000', '$175,000', '$480,000']"
      ]
     },
     "execution_count": 23,
     "metadata": {},
     "output_type": "execute_result"
    }
   ],
   "execution_count": 23
  },
  {
   "metadata": {
    "ExecuteTime": {
     "end_time": "2025-07-07T20:36:57.888566Z",
     "start_time": "2025-07-07T20:36:57.885258Z"
    }
   },
   "cell_type": "code",
   "source": [
    "house_prices.append('$1,000,000')\n",
    "house_prices"
   ],
   "id": "d55ae069a2b60fde",
   "outputs": [
    {
     "data": {
      "text/plain": [
       "['$140,000', '$175,000', '$480,000', '$1,000,000']"
      ]
     },
     "execution_count": 24,
     "metadata": {},
     "output_type": "execute_result"
    }
   ],
   "execution_count": 24
  },
  {
   "metadata": {
    "ExecuteTime": {
     "end_time": "2025-07-07T20:37:05.418851Z",
     "start_time": "2025-07-07T20:37:05.415170Z"
    }
   },
   "cell_type": "code",
   "source": [
    "house_prices.remove('$140,000')\n",
    "house_prices"
   ],
   "id": "d23da0d354c94100",
   "outputs": [
    {
     "data": {
      "text/plain": [
       "['$175,000', '$480,000', '$1,000,000']"
      ]
     },
     "execution_count": 25,
     "metadata": {},
     "output_type": "execute_result"
    }
   ],
   "execution_count": 25
  },
  {
   "metadata": {
    "ExecuteTime": {
     "end_time": "2025-07-07T20:37:11.534010Z",
     "start_time": "2025-07-07T20:37:11.530524Z"
    }
   },
   "cell_type": "code",
   "source": [
    "tuple1 = (10, 20, 30, 40, 50)\n",
    "tuple1"
   ],
   "id": "87d84ed1ebdd2979",
   "outputs": [
    {
     "data": {
      "text/plain": [
       "(10, 20, 30, 40, 50)"
      ]
     },
     "execution_count": 26,
     "metadata": {},
     "output_type": "execute_result"
    }
   ],
   "execution_count": 26
  },
  {
   "metadata": {
    "ExecuteTime": {
     "end_time": "2025-07-07T20:37:20.390148Z",
     "start_time": "2025-07-07T20:37:20.386870Z"
    }
   },
   "cell_type": "code",
   "source": [
    "reversed_tuple = tuple1[::-1]\n",
    "reversed_tuple"
   ],
   "id": "1944e88ae888b4ea",
   "outputs": [
    {
     "data": {
      "text/plain": [
       "(50, 40, 30, 20, 10)"
      ]
     },
     "execution_count": 27,
     "metadata": {},
     "output_type": "execute_result"
    }
   ],
   "execution_count": 27
  },
  {
   "metadata": {
    "ExecuteTime": {
     "end_time": "2025-07-07T20:37:28.560134Z",
     "start_time": "2025-07-07T20:37:28.556294Z"
    }
   },
   "cell_type": "code",
   "source": [
    "inventory = {\n",
    "    'gold': 500,\n",
    "    'pouch': ['flint', 'twine', 'gemstone'],\n",
    "    'backpack': ['xylophone', 'dagger', 'bedroll', 'bread loaf']\n",
    "}\n",
    "inventory"
   ],
   "id": "92a444c41aa2bbf9",
   "outputs": [
    {
     "data": {
      "text/plain": [
       "{'gold': 500,\n",
       " 'pouch': ['flint', 'twine', 'gemstone'],\n",
       " 'backpack': ['xylophone', 'dagger', 'bedroll', 'bread loaf']}"
      ]
     },
     "execution_count": 28,
     "metadata": {},
     "output_type": "execute_result"
    }
   ],
   "execution_count": 28
  },
  {
   "metadata": {
    "ExecuteTime": {
     "end_time": "2025-07-07T20:37:38.322765Z",
     "start_time": "2025-07-07T20:37:38.319152Z"
    }
   },
   "cell_type": "code",
   "source": [
    "inventory['pocket'] = ['seashell', 'strange berry', 'lint']\n",
    "inventory"
   ],
   "id": "1b0cf80f21f42f75",
   "outputs": [
    {
     "data": {
      "text/plain": [
       "{'gold': 500,\n",
       " 'pouch': ['flint', 'twine', 'gemstone'],\n",
       " 'backpack': ['xylophone', 'dagger', 'bedroll', 'bread loaf'],\n",
       " 'pocket': ['seashell', 'strange berry', 'lint']}"
      ]
     },
     "execution_count": 29,
     "metadata": {},
     "output_type": "execute_result"
    }
   ],
   "execution_count": 29
  },
  {
   "metadata": {
    "ExecuteTime": {
     "end_time": "2025-07-07T20:37:59.626981Z",
     "start_time": "2025-07-07T20:37:59.623931Z"
    }
   },
   "cell_type": "code",
   "source": [
    "inventory['backpack'].sort()\n",
    "inventory['backpack']"
   ],
   "id": "3886df7c102d08d3",
   "outputs": [
    {
     "data": {
      "text/plain": [
       "['bedroll', 'bread loaf', 'dagger', 'xylophone']"
      ]
     },
     "execution_count": 30,
     "metadata": {},
     "output_type": "execute_result"
    }
   ],
   "execution_count": 30
  },
  {
   "metadata": {
    "ExecuteTime": {
     "end_time": "2025-07-07T20:38:09.679605Z",
     "start_time": "2025-07-07T20:38:09.676331Z"
    }
   },
   "cell_type": "code",
   "source": [
    "inventory['backpack'].remove('dagger')\n",
    "inventory['backpack']"
   ],
   "id": "4656d3b6157706bb",
   "outputs": [
    {
     "data": {
      "text/plain": [
       "['bedroll', 'bread loaf', 'xylophone']"
      ]
     },
     "execution_count": 31,
     "metadata": {},
     "output_type": "execute_result"
    }
   ],
   "execution_count": 31
  },
  {
   "metadata": {
    "ExecuteTime": {
     "end_time": "2025-07-07T20:38:18.278271Z",
     "start_time": "2025-07-07T20:38:18.275354Z"
    }
   },
   "cell_type": "code",
   "source": [
    "inventory['gold'] += 50\n",
    "inventory['gold']"
   ],
   "id": "c93453c0f67c4bfd",
   "outputs": [
    {
     "data": {
      "text/plain": [
       "550"
      ]
     },
     "execution_count": 32,
     "metadata": {},
     "output_type": "execute_result"
    }
   ],
   "execution_count": 32
  },
  {
   "metadata": {
    "ExecuteTime": {
     "end_time": "2025-07-07T20:38:21.020927Z",
     "start_time": "2025-07-07T20:38:21.017891Z"
    }
   },
   "cell_type": "code",
   "source": "inventory",
   "id": "94794c7d7bfc3ddd",
   "outputs": [
    {
     "data": {
      "text/plain": [
       "{'gold': 550,\n",
       " 'pouch': ['flint', 'twine', 'gemstone'],\n",
       " 'backpack': ['bedroll', 'bread loaf', 'xylophone'],\n",
       " 'pocket': ['seashell', 'strange berry', 'lint']}"
      ]
     },
     "execution_count": 33,
     "metadata": {},
     "output_type": "execute_result"
    }
   ],
   "execution_count": 33
  }
 ],
 "metadata": {
  "kernelspec": {
   "display_name": "Python 3",
   "language": "python",
   "name": "python3"
  },
  "language_info": {
   "codemirror_mode": {
    "name": "ipython",
    "version": 2
   },
   "file_extension": ".py",
   "mimetype": "text/x-python",
   "name": "python",
   "nbconvert_exporter": "python",
   "pygments_lexer": "ipython2",
   "version": "2.7.6"
  }
 },
 "nbformat": 4,
 "nbformat_minor": 5
}
